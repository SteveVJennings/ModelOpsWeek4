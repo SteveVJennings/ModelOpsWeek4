{
 "cells": [
  {
   "cell_type": "code",
   "execution_count": null,
   "id": "e2722b24-02d0-432b-8c3b-a2b37df5667a",
   "metadata": {
    "id": "7285867b-0c8a-49ab-a6af-47c3ccb92fe0",
    "tags": []
   },
   "outputs": [],
   "source": [
    "print (“hello world. This is notebook 1”)"
   ]
  }
 ],
 "metadata": {
  "kernelspec": {
   "display_name": "Python 3.9",
   "language": "python",
   "name": "python3"
  },
  "language_info": {
   "codemirror_mode": {
    "name": "ipython",
    "version": 3
   },
   "file_extension": ".py",
   "mimetype": "text/x-python",
   "name": "python",
   "nbconvert_exporter": "python",
   "pygments_lexer": "ipython3",
   "version": "3.9.7"
  }
 },
 "nbformat": 4,
 "nbformat_minor": 5
}
